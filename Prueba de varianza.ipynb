{
  "nbformat": 4,
  "nbformat_minor": 0,
  "metadata": {
    "colab": {
      "provenance": [],
      "authorship_tag": "ABX9TyNOiwdrTaHpan1djcR8zD5Y",
      "include_colab_link": true
    },
    "kernelspec": {
      "name": "python3",
      "display_name": "Python 3"
    },
    "language_info": {
      "name": "python"
    }
  },
  "cells": [
    {
      "cell_type": "markdown",
      "metadata": {
        "id": "view-in-github",
        "colab_type": "text"
      },
      "source": [
        "<a href=\"https://colab.research.google.com/github/GusBarcenac/Simulacion_notas_de_clase/blob/main/Prueba%20de%20varianza.ipynb\" target=\"_parent\"><img src=\"https://colab.research.google.com/assets/colab-badge.svg\" alt=\"Open In Colab\"/></a>"
      ]
    },
    {
      "cell_type": "code",
      "execution_count": 1,
      "metadata": {
        "colab": {
          "base_uri": "https://localhost:8080/"
        },
        "id": "8XkQnccpI4pu",
        "outputId": "2c8935ca-e3da-475a-be08-da3bddfe1858"
      },
      "outputs": [
        {
          "output_type": "stream",
          "name": "stdout",
          "text": [
            " los datos son:  [0.374, 0.2664, 0.6001, 0.1516, 0.6418]\n",
            "El número total de datos es:  5\n",
            "promedio  0.40678\n",
            "Varianza m es:  0.04463\n",
            "Nivel de confianza 95%, grados libertad=  4\n",
            "\n",
            "chi~cuadrado( 0.975 , 4 ),= 0.4844186\n",
            "chi~cuadrado( 0.025 , 4 ),= 11.1432868\n",
            "\n",
            "Límite inferior=  0.010092053272665207 límite superior= 0.2321518079557874\n",
            "Varianza m es:  0.04463\n",
            "0.010092053272665207 <= var <= 0.2321518079557874 , \n",
            "Aceptamos que los números tienen una varianza estadisticamente igual a 1/12 con un nivel de aceptación 1-alfa\n"
          ]
        }
      ],
      "source": [
        "#Prueba de medias por obtención de números aleatorios entre 0 y 1\n",
        "import numpy as np\n",
        "from scipy import stats\n",
        "import scipy.stats\n",
        "import random\n",
        "lista_nums = []    #Creamos una lista vacía para guardar los números\n",
        "for i in range(0,5): \n",
        "   n = (float(round(random.uniform(0, 1),4)))\n",
        "   lista_nums.append(n)    # Agregamos el numero introducido a la lista\n",
        "   \n",
        "   \n",
        "#Obtención de media y varianza con la libreria statistics\n",
        "print(\" los datos son: \", lista_nums)\n",
        "nt= len(lista_nums)\n",
        "print(\"El número total de datos es: \", nt) #contar datos\n",
        "from numpy import mean \n",
        "promedio= round(mean(lista_nums), 5)\n",
        "print(\"promedio \", promedio)\n",
        "import statistics\n",
        "var = statistics.variance(lista_nums) \n",
        "print(\"Varianza m es: \", round(var, 5))\n",
        "\n",
        "\n",
        "#Define los valores de alfa para chi cuadrado\n",
        "alfa=0.05\n",
        "confiabilidad=1-alfa/2\n",
        "gl=nt-1\n",
        "\n",
        "import scipy.stats\n",
        "from scipy import stats\n",
        "from  scipy.stats import chi2_contingency\n",
        "\n",
        "lsvchi=scipy.stats.chi2.ppf(confiabilidad,gl)\n",
        "livchi=scipy.stats.chi2.ppf(alfa/2,gl)\n",
        "\n",
        "print(\"Nivel de confianza 95%, grados libertad= \",round(gl))\n",
        "print(\"\\nchi~cuadrado(\", confiabilidad,\",\",gl,\"),=\",round(livchi,7))\n",
        "print(\"chi~cuadrado(\", alfa/2,\",\",gl,\"),=\",round(lsvchi,7))\n",
        "\n",
        "\n",
        "#Cálculo de límite inferior y superior\n",
        "z=1.96 #Nivel de confianza del 95% \n",
        "lsx=lsvchi/(12*(nt-1))\n",
        "lix=livchi/(12*(nt-1))\n",
        "print(\"\\nLímite inferior= \",lix, \"límite superior=\" ,lsx)\n",
        "print(\"Varianza m es: \", round(var, 5))\n",
        "if lix <= var <= lsx:\n",
        "  print(lix,\"<= var <=\",lsx,\", \\nAceptamos que los números tienen una varianza estadisticamente igual a 1/12 con un nivel de aceptación 1-alfa\")\n",
        "  \n",
        "else:\n",
        "  print(\"\\nLos números aleatorios no tienen una varianza estadisticamente igual a 1/12 con un nivel de rechazo de 1-alfa\")"
      ]
    }
  ]
}