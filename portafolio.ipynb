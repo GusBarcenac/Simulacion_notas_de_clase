{
  "nbformat": 4,
  "nbformat_minor": 0,
  "metadata": {
    "colab": {
      "provenance": [],
      "authorship_tag": "ABX9TyOQ/sl0vBQqcwmKJ4fs/s+x",
      "include_colab_link": true
    },
    "kernelspec": {
      "name": "python3",
      "display_name": "Python 3"
    },
    "language_info": {
      "name": "python"
    }
  },
  "cells": [
    {
      "cell_type": "markdown",
      "metadata": {
        "id": "view-in-github",
        "colab_type": "text"
      },
      "source": [
        "<a href=\"https://colab.research.google.com/github/GusBarcenac/Simulacion_notas_de_clase/blob/main/portafolio.ipynb\" target=\"_parent\"><img src=\"https://colab.research.google.com/assets/colab-badge.svg\" alt=\"Open In Colab\"/></a>"
      ]
    },
    {
      "cell_type": "markdown",
      "source": [
        "¿COMO OPTIMIZAR UN PORTAFOLIO DE INVERSION?\n",
        "\n",
        "*   Nos basaremos en utlizar **Modern Portfolio Theory (MPT)**\n",
        "*   Teoría elaborada por el premio Nobel en Economía Harry Markowitz's\n",
        "*   El objetivo de este modelo optimizar el beneficio, reduciendo el riesgo\n",
        "*   Una ley básica es a mayor riesgo mayor beneficio y al revés, sin embargo esta relación no es lineal\n",
        "\n",
        "\n",
        "Asumiendo que los inversores somos reacionales y evitamos riesgos, siempre que sea posible y que aspiramos a tener la mayor rentabilidad de la inversión, para este trabajo no se toman en cuenta las distintas comisiones del mercado, que todos los inversores contamos con la misma información.\n",
        "\n",
        "\n",
        "**\"El mayor problema con los inversores individueles es que típicamente compran cuando el mercado esta arriba, pensando que va a seguir subiendo y venden cuando el mercado esta abajo, pensando que va a seguir bajando\"\n",
        "Markowitz's**\n"
      ],
      "metadata": {
        "id": "7AjoQ_4vNQg7"
      }
    },
    {
      "cell_type": "code",
      "source": [
        "import pandas as pd\n",
        "import numpy as np\n",
        "from pandas_datareader import data as wb\n",
        "import matplotlib.pyplot as plt"
      ],
      "metadata": {
        "id": "a6IF7FhFVuJp"
      },
      "execution_count": null,
      "outputs": []
    },
    {
      "cell_type": "code",
      "source": [
        "def get_stock(stocks):\n",
        "  pf=pd.DataFrame()\n",
        "  for element in stocks:\n",
        "    pf[element]= wb.DataReader(element, data_source='yahoo',start='2019-01-01')['Adj Close']\n",
        "  return pf"
      ],
      "metadata": {
        "id": "1Q1u-Oz7Wgm2"
      },
      "execution_count": 1,
      "outputs": []
    }
  ]
}