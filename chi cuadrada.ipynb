{
  "nbformat": 4,
  "nbformat_minor": 0,
  "metadata": {
    "colab": {
      "provenance": [],
      "authorship_tag": "ABX9TyPXYpJajCA8fsvDdx6RIf+H",
      "include_colab_link": true
    },
    "kernelspec": {
      "name": "python3",
      "display_name": "Python 3"
    },
    "language_info": {
      "name": "python"
    }
  },
  "cells": [
    {
      "cell_type": "markdown",
      "metadata": {
        "id": "view-in-github",
        "colab_type": "text"
      },
      "source": [
        "<a href=\"https://colab.research.google.com/github/GusBarcenac/Simulacion_notas_de_clase/blob/main/chi%20cuadrada.ipynb\" target=\"_parent\"><img src=\"https://colab.research.google.com/assets/colab-badge.svg\" alt=\"Open In Colab\"/></a>"
      ]
    },
    {
      "cell_type": "code",
      "source": [
        "lista_nums = [0.005,0.2,0.3,0.5,0.5,0.9,0.10,0.2,0.8,0.999999999]  \n",
        "\n",
        "print(\"El número total de datos es: \", len(lista_nums))\n",
        "a1=min(lista_nums)\n",
        "b1=max(lista_nums)\n",
        "print(\"Dato menor= \",a1, \" Dato mayor \", b1)\n",
        "n=len(lista_nums)\n",
        "int (n)\n",
        "m=n**0.5\n",
        "alfa=0.05\n",
        "confiabilidad=1-alfa\n",
        "k=0\n",
        "\n",
        "enterom=int(m)\n",
        "\n",
        "mod=m%enterom\n",
        "\n",
        "if mod == 0:\n",
        "    print(\"Los intervalos que tienes (m) son \", int(m))\n",
        "    gl=m-k\n",
        "\n",
        "else:\n",
        "    print(\"raiz(n)= \", round(m,2), \" m = sig entero= \", int(m+1))\n",
        "    gl=m-k\n",
        "    from  scipy.stats import chi2_contingency\n",
        "import numpy as np\n",
        "\n",
        "\n",
        "chi=scipy.stats.chi2.ppf (confiabilidad,gl)\n",
        "print(\"Nivel de confianza 95%,grados libertad= \",round(gl),\" chi~cuadrado= \",chi)"
      ],
      "metadata": {
        "id": "hQX3at8Hclfh",
        "outputId": "b2f69f15-b1a8-4766-a776-10ef83b8d917",
        "colab": {
          "base_uri": "https://localhost:8080/",
          "height": 270
        }
      },
      "execution_count": 2,
      "outputs": [
        {
          "output_type": "stream",
          "name": "stdout",
          "text": [
            "El número total de datos es:  10\n",
            "Dato menor=  0.005  Dato mayor  0.999999999\n",
            "raiz(n)=  3.16  m = sig entero=  4\n"
          ]
        },
        {
          "output_type": "error",
          "ename": "NameError",
          "evalue": "ignored",
          "traceback": [
            "\u001b[0;31m---------------------------------------------------------------------------\u001b[0m",
            "\u001b[0;31mNameError\u001b[0m                                 Traceback (most recent call last)",
            "\u001b[0;32m<ipython-input-2-7b7202064fc5>\u001b[0m in \u001b[0;36m<cell line: 29>\u001b[0;34m()\u001b[0m\n\u001b[1;32m     27\u001b[0m \u001b[0;34m\u001b[0m\u001b[0m\n\u001b[1;32m     28\u001b[0m \u001b[0;34m\u001b[0m\u001b[0m\n\u001b[0;32m---> 29\u001b[0;31m \u001b[0mchi\u001b[0m\u001b[0;34m=\u001b[0m\u001b[0mscipy\u001b[0m\u001b[0;34m.\u001b[0m\u001b[0mstats\u001b[0m\u001b[0;34m.\u001b[0m\u001b[0mchi2\u001b[0m\u001b[0;34m.\u001b[0m\u001b[0mppf\u001b[0m \u001b[0;34m(\u001b[0m\u001b[0mconfiabilidad\u001b[0m\u001b[0;34m,\u001b[0m\u001b[0mgl\u001b[0m\u001b[0;34m)\u001b[0m\u001b[0;34m\u001b[0m\u001b[0;34m\u001b[0m\u001b[0m\n\u001b[0m\u001b[1;32m     30\u001b[0m \u001b[0mprint\u001b[0m\u001b[0;34m(\u001b[0m\u001b[0;34m\"Nivel de confianza 95%,grados libertad= \"\u001b[0m\u001b[0;34m,\u001b[0m\u001b[0mround\u001b[0m\u001b[0;34m(\u001b[0m\u001b[0mgl\u001b[0m\u001b[0;34m)\u001b[0m\u001b[0;34m,\u001b[0m\u001b[0;34m\" chi~cuadrado= \"\u001b[0m\u001b[0;34m,\u001b[0m\u001b[0mchi\u001b[0m\u001b[0;34m)\u001b[0m\u001b[0;34m\u001b[0m\u001b[0;34m\u001b[0m\u001b[0m\n",
            "\u001b[0;31mNameError\u001b[0m: name 'scipy' is not defined"
          ]
        }
      ]
    },
    {
      "cell_type": "code",
      "source": [
        "from numpy import mean \n",
        "print(\"Media \", round(mean(lista_nums), 5))\n",
        "import statistics\n",
        "output = statistics.variance(lista_nums) \n",
        "print(\"Varianza(m) : \", round(output, 5))"
      ],
      "metadata": {
        "id": "9grYgT1jdI80",
        "outputId": "e4d44d06-ef46-4fa3-e275-593285331c79",
        "colab": {
          "base_uri": "https://localhost:8080/"
        }
      },
      "execution_count": 3,
      "outputs": [
        {
          "output_type": "stream",
          "name": "stdout",
          "text": [
            "Media  0.4505\n",
            "Varianza(m) :  0.12228\n"
          ]
        }
      ]
    },
    {
      "cell_type": "code",
      "source": [
        "a=0;\n",
        "\n",
        "intervalo=0.1\n",
        "import sympy as sp \n",
        "x = sp.Symbol('x')\n",
        "Csuma=0\n",
        "print(\"\\nIntervalos,    F0i          FEi          Ci\")\n",
        "for i in range(0,n):\n",
        "    cont1=0\n",
        "    for i in range(0,n):\n",
        "        B=lista_nums[i]\n",
        "        print \n",
        "        if(B>=a and B<a+intervalo):\n",
        "            cont1=cont1+1         \n",
        "    a=a+intervalo\n",
        "    FEi=1/(b1-a1)\n",
        "    FOi=cont1\n",
        "    Ci=((FEi-FOi)**2)/FEi  \n",
        "    sp.integrate(y,(x,a-intervalo,a))\n",
        "    print(\" [\",round(a-intervalo,3),\",\",round(a,4),\") FOi=\",cont1,\"   \",\"FEi=\",round(FEi,4),\"    Ci=\",round(Ci,10))\n",
        "    Csuma=Ci+Csuma\n",
        "print (\"C= \",Csuma) "
      ],
      "metadata": {
        "id": "VAchLJE6dac4",
        "outputId": "de8bfe8e-3cbf-45fe-ea7e-d3788ca0c300",
        "colab": {
          "base_uri": "https://localhost:8080/",
          "height": 270
        }
      },
      "execution_count": 4,
      "outputs": [
        {
          "output_type": "stream",
          "name": "stdout",
          "text": [
            "\n",
            "Intervalos,    F0i          FEi          Ci\n"
          ]
        },
        {
          "output_type": "error",
          "ename": "NameError",
          "evalue": "ignored",
          "traceback": [
            "\u001b[0;31m---------------------------------------------------------------------------\u001b[0m",
            "\u001b[0;31mNameError\u001b[0m                                 Traceback (most recent call last)",
            "\u001b[0;32m<ipython-input-4-433bc57b6222>\u001b[0m in \u001b[0;36m<cell line: 8>\u001b[0;34m()\u001b[0m\n\u001b[1;32m     17\u001b[0m     \u001b[0mFOi\u001b[0m\u001b[0;34m=\u001b[0m\u001b[0mcont1\u001b[0m\u001b[0;34m\u001b[0m\u001b[0;34m\u001b[0m\u001b[0m\n\u001b[1;32m     18\u001b[0m     \u001b[0mCi\u001b[0m\u001b[0;34m=\u001b[0m\u001b[0;34m(\u001b[0m\u001b[0;34m(\u001b[0m\u001b[0mFEi\u001b[0m\u001b[0;34m-\u001b[0m\u001b[0mFOi\u001b[0m\u001b[0;34m)\u001b[0m\u001b[0;34m**\u001b[0m\u001b[0;36m2\u001b[0m\u001b[0;34m)\u001b[0m\u001b[0;34m/\u001b[0m\u001b[0mFEi\u001b[0m\u001b[0;34m\u001b[0m\u001b[0;34m\u001b[0m\u001b[0m\n\u001b[0;32m---> 19\u001b[0;31m     \u001b[0msp\u001b[0m\u001b[0;34m.\u001b[0m\u001b[0mintegrate\u001b[0m\u001b[0;34m(\u001b[0m\u001b[0my\u001b[0m\u001b[0;34m,\u001b[0m\u001b[0;34m(\u001b[0m\u001b[0mx\u001b[0m\u001b[0;34m,\u001b[0m\u001b[0ma\u001b[0m\u001b[0;34m-\u001b[0m\u001b[0mintervalo\u001b[0m\u001b[0;34m,\u001b[0m\u001b[0ma\u001b[0m\u001b[0;34m)\u001b[0m\u001b[0;34m)\u001b[0m\u001b[0;34m\u001b[0m\u001b[0;34m\u001b[0m\u001b[0m\n\u001b[0m\u001b[1;32m     20\u001b[0m     \u001b[0mprint\u001b[0m\u001b[0;34m(\u001b[0m\u001b[0;34m\" [\"\u001b[0m\u001b[0;34m,\u001b[0m\u001b[0mround\u001b[0m\u001b[0;34m(\u001b[0m\u001b[0ma\u001b[0m\u001b[0;34m-\u001b[0m\u001b[0mintervalo\u001b[0m\u001b[0;34m,\u001b[0m\u001b[0;36m3\u001b[0m\u001b[0;34m)\u001b[0m\u001b[0;34m,\u001b[0m\u001b[0;34m\",\"\u001b[0m\u001b[0;34m,\u001b[0m\u001b[0mround\u001b[0m\u001b[0;34m(\u001b[0m\u001b[0ma\u001b[0m\u001b[0;34m,\u001b[0m\u001b[0;36m4\u001b[0m\u001b[0;34m)\u001b[0m\u001b[0;34m,\u001b[0m\u001b[0;34m\") FOi=\"\u001b[0m\u001b[0;34m,\u001b[0m\u001b[0mcont1\u001b[0m\u001b[0;34m,\u001b[0m\u001b[0;34m\"   \"\u001b[0m\u001b[0;34m,\u001b[0m\u001b[0;34m\"FEi=\"\u001b[0m\u001b[0;34m,\u001b[0m\u001b[0mround\u001b[0m\u001b[0;34m(\u001b[0m\u001b[0mFEi\u001b[0m\u001b[0;34m,\u001b[0m\u001b[0;36m4\u001b[0m\u001b[0;34m)\u001b[0m\u001b[0;34m,\u001b[0m\u001b[0;34m\"    Ci=\"\u001b[0m\u001b[0;34m,\u001b[0m\u001b[0mround\u001b[0m\u001b[0;34m(\u001b[0m\u001b[0mCi\u001b[0m\u001b[0;34m,\u001b[0m\u001b[0;36m10\u001b[0m\u001b[0;34m)\u001b[0m\u001b[0;34m)\u001b[0m\u001b[0;34m\u001b[0m\u001b[0;34m\u001b[0m\u001b[0m\n\u001b[1;32m     21\u001b[0m     \u001b[0mCsuma\u001b[0m\u001b[0;34m=\u001b[0m\u001b[0mCi\u001b[0m\u001b[0;34m+\u001b[0m\u001b[0mCsuma\u001b[0m\u001b[0;34m\u001b[0m\u001b[0;34m\u001b[0m\u001b[0m\n",
            "\u001b[0;31mNameError\u001b[0m: name 'y' is not defined"
          ]
        }
      ]
    },
    {
      "cell_type": "code",
      "source": [
        "if chi < Csuma:\n",
        "    print(\"chi= \",round(chi,4),\"< C= \",round(Csuma,4),\"A un nivel de confiabilidad 1- alfa Se puede rechazar la hipotesis de que los datos siguen la distribución propuesta\")\n",
        "    \n",
        "\n",
        "else:\n",
        "    print(\"chi= \",chi,\">= C= \",round(Csuma,4),\"A un nivel de confiabilidad 1-alfa, \\No se puede rechazar la hipotesis de que los datos siguen la distribución propuesta\")\n",
        "    \n",
        "\n"
      ],
      "metadata": {
        "id": "TkrlrZatdmjb",
        "outputId": "d6c707fc-48b5-44fe-e3d7-3c2013efb4e4",
        "colab": {
          "base_uri": "https://localhost:8080/",
          "height": 131
        }
      },
      "execution_count": 5,
      "outputs": [
        {
          "output_type": "error",
          "ename": "SyntaxError",
          "evalue": "ignored",
          "traceback": [
            "\u001b[0;36m  File \u001b[0;32m\"<ipython-input-5-3267e6887412>\"\u001b[0;36m, line \u001b[0;32m6\u001b[0m\n\u001b[0;31m    print(\"chi= \",chi,\">= C= \",round(Csuma,4),\"A un nivel de confiabilidad 1-alfa, \\No se puede rechazar la hipotesis de que los datos siguen la distribución propuesta\")\u001b[0m\n\u001b[0m                                                                                                                                                                        ^\u001b[0m\n\u001b[0;31mSyntaxError\u001b[0m\u001b[0;31m:\u001b[0m (unicode error) 'unicodeescape' codec can't decode bytes in position 36-37: malformed \\N character escape\n"
          ]
        }
      ]
    }
  ]
}