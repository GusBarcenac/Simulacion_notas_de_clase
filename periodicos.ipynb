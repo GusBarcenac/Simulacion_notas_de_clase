{
  "nbformat": 4,
  "nbformat_minor": 0,
  "metadata": {
    "colab": {
      "provenance": [],
      "authorship_tag": "ABX9TyMSY0uYtGJkDEDqQj4PLvKh",
      "include_colab_link": true
    },
    "kernelspec": {
      "name": "python3",
      "display_name": "Python 3"
    },
    "language_info": {
      "name": "python"
    }
  },
  "cells": [
    {
      "cell_type": "markdown",
      "metadata": {
        "id": "view-in-github",
        "colab_type": "text"
      },
      "source": [
        "<a href=\"https://colab.research.google.com/github/GusBarcenac/Simulacion_notas_de_clase/blob/main/periodicos.ipynb\" target=\"_parent\"><img src=\"https://colab.research.google.com/assets/colab-badge.svg\" alt=\"Open In Colab\"/></a>"
      ]
    },
    {
      "cell_type": "code",
      "source": [
        "import random\n",
        "\n",
        "lista_bp = []    #Creamos una lista vacía para guardar los números\n",
        "soles=0\n",
        "aguilas=0\n",
        "numaleatorios=3 #cantidad de números aleatorios generados.\n",
        "dossoles=0\n",
        "lanzamientos=3\n",
        "pedido=50\n",
        "puv=1.10\n",
        "cua=0.90\n",
        "cur=0.10\n",
        "cvp=0.20\n",
        "bp=0\n",
        "for i in range(1,1000): \n",
        "    n = (float(round(random.uniform(0, 1),4)))\n",
        "   \n",
        "    #print(n)\n",
        "    \n",
        "    if 0<=n and n<0.20:\n",
        "      ventassimu=30\n",
        "      \n",
        "    if 0.20<=n and n<0.45:\n",
        "      ventassimu=40\n",
        "      \n",
        "    if 0.45<=n and n<0.70:\n",
        "      ventassimu=50\n",
        "      \n",
        "\n",
        "    if 0.70<=n and n<0.90:\n",
        "      ventassimu=60\n",
        "      \n",
        "\n",
        "    if 0.90<=n and n<1:\n",
        "      ventassimu=70\n",
        "      \n",
        "    \n",
        "    if pedido<ventassimu:\n",
        "        ventasreales=pedido\n",
        "        ventasperdidas=ventassimu-pedido\n",
        "        periodicosnov=0\n",
        "        \n",
        "\n",
        "    if pedido>=ventassimu:\n",
        "        ventasreales=ventassimu\n",
        "        ventasperdidas=0\n",
        "        periodicosnov=pedido-ventasreales\n",
        "        \n",
        "\n",
        "    #print(\"ventas simuladas:\",ventassimu,\"ventas reales:\",ventasreales,\"ventas perdidas:\",ventasperdidas,\"Periodicos no vendidos:\",periodicosnov)\n",
        "    Beneficio=(puv*ventasreales)-(cua*pedido)-(cur*periodicosnov)-(cvp*ventasperdidas)\n",
        "    #print((puv*ventasreales),(cua*pedido),(cur*periodicosnov),(cvp*ventasperdidas))\n",
        "    #print(\"el beneficio es: \",Beneficio)\n",
        "    bp=(bp+Beneficio)\n",
        "    bpa=bp/i\n",
        "    #print(i,\"Beneficio promedio:\",bpa)\n",
        "    lista_bp.append(round(bpa,5))    # Agregamos el beneficio promedio introducido a la lista\n",
        "\n",
        "\n",
        "plt.plot(lista_bp)\n",
        "   # Dibuja el gráfico\n",
        "plt.title(\"Venta de periodico\")   # Establece el título del gráfico\n",
        "plt.xlabel(\"dia\")   # Establece el título del eje x\n",
        "plt.ylabel(\"beneficio\")   # Establece el título del eje y\n",
        "#print(lista_bp)\n",
        "\n"
      ],
      "metadata": {
        "colab": {
          "base_uri": "https://localhost:8080/",
          "height": 236
        },
        "id": "SfYj7Wn5MrM0",
        "outputId": "5ba993db-2376-452a-e979-ff107a60fcb8"
      },
      "execution_count": 4,
      "outputs": [
        {
          "output_type": "error",
          "ename": "NameError",
          "evalue": "ignored",
          "traceback": [
            "\u001b[0;31m---------------------------------------------------------------------------\u001b[0m",
            "\u001b[0;31mNameError\u001b[0m                                 Traceback (most recent call last)",
            "\u001b[0;32m<ipython-input-4-abd035d9ec3a>\u001b[0m in \u001b[0;36m<cell line: 60>\u001b[0;34m()\u001b[0m\n\u001b[1;32m     58\u001b[0m \u001b[0;34m\u001b[0m\u001b[0m\n\u001b[1;32m     59\u001b[0m \u001b[0;34m\u001b[0m\u001b[0m\n\u001b[0;32m---> 60\u001b[0;31m \u001b[0mplt\u001b[0m\u001b[0;34m.\u001b[0m\u001b[0mplot\u001b[0m\u001b[0;34m(\u001b[0m\u001b[0mlista_bp\u001b[0m\u001b[0;34m)\u001b[0m\u001b[0;34m\u001b[0m\u001b[0;34m\u001b[0m\u001b[0m\n\u001b[0m\u001b[1;32m     61\u001b[0m    \u001b[0;31m# Dibuja el gráfico\u001b[0m\u001b[0;34m\u001b[0m\u001b[0;34m\u001b[0m\u001b[0m\n\u001b[1;32m     62\u001b[0m \u001b[0mplt\u001b[0m\u001b[0;34m.\u001b[0m\u001b[0mtitle\u001b[0m\u001b[0;34m(\u001b[0m\u001b[0;34m\"Venta de periodico\"\u001b[0m\u001b[0;34m)\u001b[0m   \u001b[0;31m# Establece el título del gráfico\u001b[0m\u001b[0;34m\u001b[0m\u001b[0;34m\u001b[0m\u001b[0m\n",
            "\u001b[0;31mNameError\u001b[0m: name 'plt' is not defined"
          ]
        }
      ]
    }
  ]
}