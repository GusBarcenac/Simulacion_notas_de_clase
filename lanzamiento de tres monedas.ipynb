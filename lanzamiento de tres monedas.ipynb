{
  "nbformat": 4,
  "nbformat_minor": 0,
  "metadata": {
    "colab": {
      "provenance": [],
      "authorship_tag": "ABX9TyOQxfrd6zrRo8ZcBoDmXFKh",
      "include_colab_link": true
    },
    "kernelspec": {
      "name": "python3",
      "display_name": "Python 3"
    },
    "language_info": {
      "name": "python"
    }
  },
  "cells": [
    {
      "cell_type": "markdown",
      "metadata": {
        "id": "view-in-github",
        "colab_type": "text"
      },
      "source": [
        "<a href=\"https://colab.research.google.com/github/GusBarcenac/Simulacion_notas_de_clase/blob/main/lanzamiento%20de%20tres%20monedas.ipynb\" target=\"_parent\"><img src=\"https://colab.research.google.com/assets/colab-badge.svg\" alt=\"Open In Colab\"/></a>"
      ]
    },
    {
      "cell_type": "code",
      "execution_count": 1,
      "metadata": {
        "colab": {
          "base_uri": "https://localhost:8080/"
        },
        "id": "hrmuCRgLeVmr",
        "outputId": "ba9fb718-e177-40ec-893e-0964de3914f8"
      },
      "outputs": [
        {
          "output_type": "stream",
          "name": "stdout",
          "text": [
            "1 ['sol', 'sol', 'sol']        #soles: 3    #aguilas: 0 ------NEGATIVO\n",
            "2 ['sol', 'aguila', 'aguila']        #soles: 1    #aguilas: 2 ------NEGATIVO\n",
            "3 ['sol', 'aguila', 'aguila']        #soles: 1    #aguilas: 2 ------NEGATIVO\n",
            "4 ['sol', 'sol', 'aguila']             #soles: 2    #aguilas: 1 -------POSITIVO\n",
            "5 ['aguila', 'aguila', 'sol']        #soles: 1    #aguilas: 2 ------NEGATIVO\n",
            "6 ['aguila', 'aguila', 'sol']        #soles: 1    #aguilas: 2 ------NEGATIVO\n",
            "7 ['sol', 'sol', 'sol']        #soles: 3    #aguilas: 0 ------NEGATIVO\n",
            "8 ['aguila', 'aguila', 'sol']        #soles: 1    #aguilas: 2 ------NEGATIVO\n",
            "9 ['aguila', 'aguila', 'aguila']        #soles: 0    #aguilas: 3 ------NEGATIVO\n",
            "10 ['aguila', 'aguila', 'sol']        #soles: 1    #aguilas: 2 ------NEGATIVO\n",
            "11 ['aguila', 'aguila', 'sol']        #soles: 1    #aguilas: 2 ------NEGATIVO\n",
            "12 ['sol', 'aguila', 'aguila']        #soles: 1    #aguilas: 2 ------NEGATIVO\n",
            "13 ['aguila', 'aguila', 'sol']        #soles: 1    #aguilas: 2 ------NEGATIVO\n",
            "14 ['sol', 'aguila', 'sol']             #soles: 2    #aguilas: 1 -------POSITIVO\n",
            "15 ['sol', 'sol', 'aguila']             #soles: 2    #aguilas: 1 -------POSITIVO\n",
            "16 ['aguila', 'sol', 'aguila']        #soles: 1    #aguilas: 2 ------NEGATIVO\n",
            "17 ['aguila', 'sol', 'aguila']        #soles: 1    #aguilas: 2 ------NEGATIVO\n",
            "18 ['sol', 'sol', 'aguila']             #soles: 2    #aguilas: 1 -------POSITIVO\n",
            "19 ['aguila', 'sol', 'aguila']        #soles: 1    #aguilas: 2 ------NEGATIVO\n",
            "20 ['sol', 'sol', 'aguila']             #soles: 2    #aguilas: 1 -------POSITIVO\n",
            "\n",
            "cantidad de eventos positivos 5 de 20\n",
            "Probabilidad= 0.25\n"
          ]
        }
      ],
      "source": [
        "import random\n",
        "\n",
        "lista_nums = []    #Creamos una lista vacía para guardar los números\n",
        "soles=0\n",
        "aguilas=0\n",
        "numaleatorios=3 #cantidad de números aleatorios generados.\n",
        "dossoles=0\n",
        "for j in range(0,20):\n",
        "  \n",
        "  lista_nums=[]\n",
        "  soles=0 \n",
        "  aguilas=0\n",
        "  lista_nums=[]\n",
        "  lista_nums1=[]\n",
        "  for i in range(0,numaleatorios): \n",
        "    n = (float(round(random.uniform(0, 1),4)))\n",
        "    lista_nums1.append(n)    # Agregamos el numero introducido a la lista\n",
        "    if n<0.5:\n",
        "     soles=soles+1\n",
        "     lista_nums.append(\"sol\")\n",
        "    else:\n",
        "     aguilas=aguilas+1\n",
        "     lista_nums.append(\"aguila\")\n",
        "\n",
        "#print(lista_nums1)\n",
        "#print(lista_nums)    #lista que guarda los números  \n",
        "#print(\"cantidad de soles:\",soles)\n",
        "#print(\"cantidad de aguilas:\",aguilas)\n",
        " \n",
        "  if soles==2:\n",
        "    dossoles=dossoles+1\n",
        "    print(j+1,lista_nums,\"            #soles:\",soles,\"   #aguilas:\",aguilas,\"-------POSITIVO\")\n",
        "  else: \n",
        "         print(j+1,lista_nums,\"       #soles:\",soles,\"   #aguilas:\",aguilas,\"------NEGATIVO\")\n",
        "\n",
        "print(\"\\ncantidad de eventos positivos\", dossoles,\"de 20\")\n",
        "probabilidad=dossoles/20\n",
        "print(\"Probabilidad=\", round(probabilidad,6))\n"
      ]
    }
  ]
}