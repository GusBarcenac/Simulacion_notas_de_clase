{
  "cells": [
    {
      "cell_type": "markdown",
      "metadata": {
        "id": "stfpqcgfkdNi"
      },
      "source": [
        "# <font color='blue'> Movimiento browniano"
      ]
    },
    {
      "cell_type": "markdown",
      "metadata": {
        "id": "DfUZcE63kdNk"
      },
      "source": [
        "La colección de variables aleatorias $X(t), t \\geq 0$ es un **movimiento browniano** de parámetros $\\mu$ y $\\sigma^2$ si satisface:  \n",
        "\n",
        "* $X(0)$ es una constante dada.\n",
        "\n",
        "* Para todo $y$ y $t$ positivos, la variable aleatoria $X(t+y)-X(y)$ es independiente de los valores del proceso hasta el  tiempo $y$ y tiene una distribución normal con media $μt$ y varianza $t \\sigma^2$"
      ]
    },
    {
      "cell_type": "markdown",
      "metadata": {
        "id": "QfEMnfXgkdNk"
      },
      "source": [
        "Comentarios.\n",
        "\n",
        "* El proceso queda determinado solo por el valor presente y ninguno del pasado el que determina los valores futuros.\n",
        "* $X(t)$ es, con probabilidad 1, una función continua de $t$.\n",
        "* Pero no es diferenciable.\n",
        "* EL movimiento browniano es el límite de modelos más simples, como las caminatas aleatorias (del modelo binomial)."
      ]
    },
    {
      "cell_type": "markdown",
      "metadata": {
        "id": "lKmu4QT2kdNk"
      },
      "source": [
        "### <font color='blue'> Movimiento Browniano Geometrico"
      ]
    },
    {
      "cell_type": "markdown",
      "metadata": {
        "id": "k4SrCMjHkdNk"
      },
      "source": [
        "Sea  $X(t), t \\geq 0$ un movimiento browniano de parámetros $\\mu$ y $\\sigma^2$, y sea:\n",
        "    \n",
        "$$S(t)=e^{X(t)}, t \\geq 0$$\n",
        "\n",
        "El proceso $S(t), t \\geq 0$ se dice que es un movimiento browniano geometrico con parámetros $\\mu$ y $\\sigma^2$.\n",
        "    "
      ]
    },
    {
      "cell_type": "markdown",
      "metadata": {
        "id": "07vHgfz5kdNl"
      },
      "source": [
        "Entonces:\n",
        "\n",
        "$$\\log \\Bigg( \\frac{S(t+y)}{S(y)} \\Bigg)$$\n",
        "\n",
        "es independiente del proceso y tiene distribución normal con media $\\mu t$ y varianza $\\sigma^2 t$."
      ]
    },
    {
      "cell_type": "markdown",
      "metadata": {
        "id": "HSmsXt06kdNl"
      },
      "source": [
        "#### Modelación de las acciones."
      ]
    },
    {
      "cell_type": "markdown",
      "metadata": {
        "id": "WXfereBXkdNl"
      },
      "source": [
        "Si $P_t$ es el precio de una acción en el tiempo $t$, entonces el rendimiento logaritmizado\n",
        "es $R_t = \\log(\\frac{P_t}{P_{t-1}})$, para $t=1,2,3...$ y normalmente ocurre que:\n",
        "\n",
        "$$R_t \\sim N(\\mu, \\sigma)$$"
      ]
    },
    {
      "cell_type": "markdown",
      "metadata": {
        "id": "-MU6GCsLkdNl"
      },
      "source": [
        "El uso del rendimiento logaritmizado se justifica como una buena aproximación:\n",
        "\n",
        "$$R_t \\approx \\frac{P_t - P_{t-1}}{P_{t-1}}$$\n",
        "\n",
        "debido a que el orden de los rendimientos es de $10^{-3}$ y se hace uso de $\\log (1 + x) \\approx x$."
      ]
    },
    {
      "cell_type": "markdown",
      "metadata": {
        "id": "v-w-ITEOkdNl"
      },
      "source": [
        "Ahora, si se reescribe la cantidad $\\frac{P_t}{P_0}$ como:\n",
        "\n",
        "$$\\frac{P_t}{P_0} = \\frac{P_t}{P_{t-1}} \\cdot \\frac{P_{t-1}}{P_{t-2}} \\cdot \\frac{P_{t-2}}{P_{t-3}} \\cdot ... \\cdot \\frac{P_2}{P_1} \\cdot \\frac{P_1}{P_0} $$"
      ]
    },
    {
      "cell_type": "markdown",
      "metadata": {
        "id": "vzaIlzNfkdNm"
      },
      "source": [
        "Al tomar el logaritmo:\n",
        "\n",
        "$$\\log( \\frac{P_t}{P_0}) = R_t + R_{t-1} + ... + R_2 + R_1$$"
      ]
    },
    {
      "cell_type": "markdown",
      "metadata": {
        "id": "2ftUmPSBkdNm"
      },
      "source": [
        "Si suponemos que los rendimientos $R_i$ son independientes y tienen una misma distribución,\n",
        "con $E[R_i]= \\mu$ y $V[R_i]=\\sigma^2$, entonces para $t$ grande, por el teorema central del límite esto\n",
        "sigue una distribución normal (para más de 30 días) y se tendrá:"
      ]
    },
    {
      "cell_type": "markdown",
      "metadata": {
        "id": "5I-JALevkdNm"
      },
      "source": [
        "$$E \\Bigg[\\log \\frac{P_t}{P_o} \\Bigg]= E[R_t]+E[R_{t-1}]+...+E[R_1]= t\\mu$$\n",
        "\n",
        "\n",
        "$$V \\Bigg[\\log \\frac{P_t}{P_o} \\Bigg]= V[R_t]+V[R_{t-1}]+...+V[R_1]= t\\sigma^2$$"
      ]
    },
    {
      "cell_type": "markdown",
      "metadata": {
        "id": "o3-zSEnmkdNm"
      },
      "source": [
        "Y se tendría que:\n",
        "\n",
        "$$\\log \\Bigg( \\frac{P_t}{P_0} \\Bigg) \\sim N(\\mu t, \\sigma \\sqrt t)$$"
      ]
    },
    {
      "cell_type": "markdown",
      "metadata": {
        "id": "8nukPMlNkdNm"
      },
      "source": [
        "Por lo que se puede escribir:\n",
        "\n",
        "$$P_t=P_0 e^{\\mu t +\\sigma \\beta_t}$$"
      ]
    },
    {
      "cell_type": "markdown",
      "metadata": {
        "id": "bWQ2iF4tkdNm"
      },
      "source": [
        "donde $\\beta_t$ es un movimiento browniano en $(0,t)$ y $E[\\beta_t]=0$ y $V[\\beta_t]=t$"
      ]
    },
    {
      "cell_type": "markdown",
      "metadata": {
        "id": "X4qqLZG5kdNm"
      },
      "source": [
        "Y la igualdad anterior también se puede escribir como:\n",
        "\n",
        "$$P_t=P_0 e^{\\mu t + \\sigma \\sqrt t z}$$\n",
        "\n",
        "donde $z \\sim N(0,1)$."
      ]
    },
    {
      "cell_type": "markdown",
      "metadata": {
        "id": "d2javeCbkdNm"
      },
      "source": [
        "Esta última ecuación nos permite ya construir una simulación."
      ]
    },
    {
      "cell_type": "code",
      "execution_count": 1,
      "metadata": {
        "id": "6Q3qkObKkdNn"
      },
      "outputs": [],
      "source": [
        "from random import gauss\n",
        "from math import exp\n",
        "import matplotlib.pyplot as plt"
      ]
    },
    {
      "cell_type": "code",
      "execution_count": 2,
      "metadata": {
        "id": "6MS6XZQdkdNn"
      },
      "outputs": [],
      "source": [
        "mu=0.001\n",
        "sigma=0.04  #sigma\n",
        "p0=10\n",
        "t=30"
      ]
    },
    {
      "cell_type": "code",
      "execution_count": 3,
      "metadata": {
        "id": "hGdnf3qikdNo"
      },
      "outputs": [],
      "source": [
        "def trayectoria(mu,sigma,p0,t):\n",
        "    l=[p0]\n",
        "    pt=p0\n",
        "    for i in range(t):\n",
        "        pt=pt*exp(mu + sigma*gauss(0,1))\n",
        "        l.append(pt)\n",
        "    return l"
      ]
    },
    {
      "cell_type": "code",
      "execution_count": 4,
      "metadata": {
        "id": "f5EvL-26kdNo"
      },
      "outputs": [],
      "source": [
        "l=trayectoria(mu, sigma,p0,t)"
      ]
    },
    {
      "cell_type": "code",
      "execution_count": 5,
      "metadata": {
        "id": "ZZxVPrz0kdNo",
        "outputId": "38d7aa83-b7b1-4134-8080-7bec77a95fd5",
        "colab": {
          "base_uri": "https://localhost:8080/"
        }
      },
      "outputs": [
        {
          "output_type": "stream",
          "name": "stdout",
          "text": [
            "[10, 10.491750367916994, 10.47301818812127, 11.459659537500594, 11.23764172509467, 10.371740069630013, 10.444871439677488, 10.740250471665005, 11.630820231312336, 11.959978606316904, 12.456369205363913, 12.677603643412299, 13.248885290605145, 13.889226921484626, 14.836056369436367, 14.674750146079377, 14.093992019658838, 15.101035748473482, 14.47448557267792, 15.966475368651063, 15.294545319941538, 15.462712465768265, 15.28780075864017, 14.647716536670506, 14.514005250401656, 15.605690687663119, 15.352562036528031, 14.549641724238768, 15.13208106426088, 15.459435928710914, 15.974364597279811]\n"
          ]
        }
      ],
      "source": [
        "print(l)"
      ]
    },
    {
      "cell_type": "code",
      "execution_count": 6,
      "metadata": {
        "id": "AZODc8e5kdNo",
        "outputId": "128fbe44-ab1e-4b0f-f5c4-720930e28948",
        "colab": {
          "base_uri": "https://localhost:8080/",
          "height": 430
        }
      },
      "outputs": [
        {
          "output_type": "display_data",
          "data": {
            "text/plain": [
              "<Figure size 640x480 with 1 Axes>"
            ],
            "image/png": "[encoded data removed]"
          },
          "metadata": {}
        }
      ],
      "source": [
        "\n",
        "plt.plot(l)\n",
        "plt.show()"
      ]
    },
    {
      "cell_type": "code",
      "execution_count": 7,
      "metadata": {
        "id": "ad0ZtFSSkdNp"
      },
      "outputs": [],
      "source": [
        "mu=0.001\n",
        "sigma=0.04\n",
        "p0=10\n",
        "t=200"
      ]
    },
    {
      "cell_type": "code",
      "execution_count": 8,
      "metadata": {
        "id": "SXorybZrkdNp",
        "outputId": "b89f7024-90df-4df5-b082-0c2a7830a70a",
        "colab": {
          "base_uri": "https://localhost:8080/",
          "height": 430
        }
      },
      "outputs": [
        {
          "output_type": "display_data",
          "data": {
            "text/plain": [
              "<Figure size 640x480 with 1 Axes>"
            ],
            "image/png": "[encoded data removed]"
          },
          "metadata": {}
        }
      ],
      "source": [
        "for i in range(10):\n",
        "    l=trayectoria(mu,sigma,p0,t)\n",
        "    plt.plot(l)\n",
        "plt.show()"
      ]
    },
    {
      "cell_type": "markdown",
      "metadata": {
        "id": "xG95ng4kkdNp"
      },
      "source": [
        "#### Ejercicio\n",
        "\n",
        "Estudiar el comportamiento de las trayectorias al variar $\\mu$ y $\\sigma$."
      ]
    },
    {
      "cell_type": "markdown",
      "metadata": {
        "id": "HdtjEyplkdNp"
      },
      "source": [
        "Entonces, sabiendo que $P_t=P_0 e^{\\mu t +\\sigma \\beta_t}=P_t=P_0 e^{\\mu t + \\sigma \\sqrt t z}$,\n",
        "¿cuál es el valor esperado de $P_t$?\n",
        "\n",
        "Tendríamos:"
      ]
    },
    {
      "cell_type": "markdown",
      "metadata": {
        "id": "5Im3UvvVkdNq"
      },
      "source": [
        "$$E[P_t]=E[P_0 e^{\\mu t + \\sigma \\sqrt t z}] = P_0 E[e^{\\mu t + \\sigma \\sqrt t z}]$$"
      ]
    },
    {
      "cell_type": "markdown",
      "metadata": {
        "id": "v5XGD-awkdNq"
      },
      "source": [
        "Y para poder evaluar esto, necesitamos utilizar la función generadora de momentos:\n",
        "    \n",
        "$$\\mu_x(s)=e^{\\mu s + \\frac{\\sigma^2 s^2}{2}}$$"
      ]
    },
    {
      "cell_type": "markdown",
      "metadata": {
        "id": "YowMLUppkdNq"
      },
      "source": [
        "De manera que:\n",
        "    \n",
        "$$E[P_t]=P_0 e^{(\\mu + \\frac{\\sigma}{2})t}$$"
      ]
    },
    {
      "cell_type": "markdown",
      "metadata": {
        "id": "g6H-2HCYkdNq"
      },
      "source": [
        "Y la varianza:\n",
        "    \n",
        "$$V[P_t]=P_0^2e^{2\\mu t}(e^{2t\\sigma^2}-e^{t\\sigma^2})$$"
      ]
    },
    {
      "cell_type": "markdown",
      "metadata": {
        "id": "tGdtJ0MwkdNq"
      },
      "source": [
        "Pero la cuestión práctica es: ¿Dados los precios de una acción, $P_0, P_1,...,P_t$, ¿cómo estimar $\\mu$ y $\\sigma$?"
      ]
    },
    {
      "cell_type": "markdown",
      "metadata": {
        "id": "fHa0bBgakdNq"
      },
      "source": [
        "Recordando que:\n",
        "\n",
        "$$R_t \\sim N(\\mu, \\sigma)$$\n",
        "\n",
        "y\n",
        "\n",
        "$$\\hat{\\mu} = \\frac{\\sum_{t=1}^{T}R_t}{T}$$\n",
        "\n",
        "y\n",
        "\n",
        "$$\\hat{\\sigma}=\\sqrt{\\frac{1}{T-1} \\sum_{t=1}^T (R_t - \\hat{\\mu})^2}$$"
      ]
    },
    {
      "cell_type": "markdown",
      "metadata": {
        "id": "-Rp-_rpEkdNq"
      },
      "source": [
        "En la práctica, dados:\n",
        "$$P_0, P_1, P_2, P_3, ...$$\n",
        "\n",
        "Calculamos:\n",
        "    \n",
        "$$R_1=\\log(\\frac{P_1}{P_0})$$\n",
        "\n",
        "$$R_1=\\log(\\frac{P_2}{P_1})$$\n",
        "\n",
        "$$R_1=\\log(\\frac{P_3}{P_2})$$\n",
        "\n",
        "$$R_1=\\log(\\frac{P_4}{P_3})$$\n",
        "\n",
        "$$...$$"
      ]
    },
    {
      "cell_type": "markdown",
      "metadata": {
        "id": "9b00WwlvkdNq"
      },
      "source": [
        "Y calculamos la media y la desviación estándar de estos valores, y podemos observar que:\n",
        "\n",
        "* Si $\\hat{\\mu} + \\frac{\\hat{\\sigma}}{2} > 0$, la acción tiende a crecer.\n",
        "\n",
        "* Si $\\hat{\\mu} + \\frac{\\hat{\\sigma}}{2} \\approx 0$, la acción tiende a permanecer constante.\n",
        "\n",
        "* Si $\\hat{\\mu} + \\frac{\\hat{\\sigma}}{2} < 0$, la acción tiende a decrecer."
      ]
    },
    {
      "cell_type": "markdown",
      "metadata": {
        "id": "g038N40wkdNr"
      },
      "source": [
        "Y podemos implementar esto con el siguiente código, usando la librería investpy."
      ]
    },
    {
      "cell_type": "code",
      "source": [
        "!pip install investpy"
      ],
      "metadata": {
        "id": "HoNdpdTSmNEF",
        "outputId": "bc86be12-d1eb-44ab-d9e5-c313a9208b3d",
        "colab": {
          "base_uri": "https://localhost:8080/"
        }
      },
      "execution_count": 10,
      "outputs": [
        {
          "output_type": "stream",
          "name": "stdout",
          "text": [
            "Looking in indexes: https://pypi.org/simple, https://us-python.pkg.dev/colab-wheels/public/simple/\n",
            "Collecting investpy\n",
            "  Downloading investpy-1.0.8.tar.gz (4.4 MB)\n",
            "\u001b[2K     \u001b[90m━━━━━━━━━━━━━━━━━━━━━━━━━━━━━━━━━━━━━━━━\u001b[0m \u001b[32m4.4/4.4 MB\u001b[0m \u001b[31m73.3 MB/s\u001b[0m eta \u001b[36m0:00:00\u001b[0m\n",
            "\u001b[?25h  Preparing metadata (setup.py) ... \u001b[?25l\u001b[?25hdone\n",
            "Collecting Unidecode>=1.1.1 (from investpy)\n",
            "  Downloading Unidecode-1.3.6-py3-none-any.whl (235 kB)\n",
            "\u001b[2K     \u001b[90m━━━━━━━━━━━━━━━━━━━━━━━━━━━━━━━━━━━━━━\u001b[0m \u001b[32m235.9/235.9 kB\u001b[0m \u001b[31m27.4 MB/s\u001b[0m eta \u001b[36m0:00:00\u001b[0m\n",
            "\u001b[?25hRequirement already satisfied: setuptools>=41.2.0 in /usr/local/lib/python3.10/dist-packages (from investpy) (67.7.2)\n",
            "Requirement already satisfied: numpy>=1.17.2 in /usr/local/lib/python3.10/dist-packages (from investpy) (1.22.4)\n",
            "Requirement already satisfied: pandas>=0.25.1 in /usr/local/lib/python3.10/dist-packages (from investpy) (1.5.3)\n",
            "Requirement already satisfied: lxml>=4.4.1 in /usr/local/lib/python3.10/dist-packages (from investpy) (4.9.2)\n",
            "Requirement already satisfied: requests>=2.22.0 in /usr/local/lib/python3.10/dist-packages (from investpy) (2.27.1)\n",
            "Requirement already satisfied: pytz>=2019.3 in /usr/local/lib/python3.10/dist-packages (from investpy) (2022.7.1)\n",
            "Requirement already satisfied: python-dateutil>=2.8.1 in /usr/local/lib/python3.10/dist-packages (from pandas>=0.25.1->investpy) (2.8.2)\n",
            "Requirement already satisfied: urllib3<1.27,>=1.21.1 in /usr/local/lib/python3.10/dist-packages (from requests>=2.22.0->investpy) (1.26.16)\n",
            "Requirement already satisfied: certifi>=2017.4.17 in /usr/local/lib/python3.10/dist-packages (from requests>=2.22.0->investpy) (2023.5.7)\n",
            "Requirement already satisfied: charset-normalizer~=2.0.0 in /usr/local/lib/python3.10/dist-packages (from requests>=2.22.0->investpy) (2.0.12)\n",
            "Requirement already satisfied: idna<4,>=2.5 in /usr/local/lib/python3.10/dist-packages (from requests>=2.22.0->investpy) (3.4)\n",
            "Requirement already satisfied: six>=1.5 in /usr/local/lib/python3.10/dist-packages (from python-dateutil>=2.8.1->pandas>=0.25.1->investpy) (1.16.0)\n",
            "Building wheels for collected packages: investpy\n",
            "  Building wheel for investpy (setup.py) ... \u001b[?25l\u001b[?25hdone\n",
            "  Created wheel for investpy: filename=investpy-1.0.8-py3-none-any.whl size=4481577 sha256=835f17b9d942cee33d86822e101e4061c4c06b61ee0b4d3a3dfd4a9556049a6a\n",
            "  Stored in directory: /root/.cache/pip/wheels/db/f4/ae/980b93b0257620bc8e4afc98a854a7a746a33eb8335fd07906\n",
            "Successfully built investpy\n",
            "Installing collected packages: Unidecode, investpy\n",
            "Successfully installed Unidecode-1.3.6 investpy-1.0.8\n"
          ]
        }
      ]
    },
    {
      "cell_type": "code",
      "execution_count": 11,
      "metadata": {
        "id": "cfDHreklkdNr"
      },
      "outputs": [],
      "source": [
        "from statistics import mean,stdev,pstdev\n",
        "from math import log\n",
        "import pandas_datareader as pdr\n",
        "import datetime\n",
        "import pandas as pd\n",
        "import matplotlib.pyplot as plt\n",
        "import investpy"
      ]
    },
    {
      "cell_type": "code",
      "source": [],
      "metadata": {
        "id": "rM0TSpiMmIK9"
      },
      "execution_count": null,
      "outputs": []
    },
    {
      "cell_type": "code",
      "source": [],
      "metadata": {
        "id": "DePdH_AzmLOM"
      },
      "execution_count": null,
      "outputs": []
    },
    {
      "cell_type": "markdown",
      "metadata": {
        "id": "70pL5GvAkdNr"
      },
      "source": [
        "Pero antes, recordemos un poco de Pandas"
      ]
    },
    {
      "cell_type": "markdown",
      "metadata": {
        "id": "Jxn4U7GikdNs"
      },
      "source": [
        "Cargamos los datos y los guardamos."
      ]
    },
    {
      "cell_type": "code",
      "execution_count": 26,
      "metadata": {
        "id": "TptjETnYkdNs",
        "outputId": "3dea87ac-7c27-4fb7-ba6d-e31f4c1e37be",
        "colab": {
          "base_uri": "https://localhost:8080/"
        }
      },
      "outputs": [
        {
          "output_type": "stream",
          "name": "stdout",
          "text": [
            "Looking in indexes: https://pypi.org/simple, https://us-python.pkg.dev/colab-wheels/public/simple/\n",
            "Requirement already satisfied: yfinance in /usr/local/lib/python3.10/dist-packages (0.2.20)\n",
            "Requirement already satisfied: pandas>=1.3.0 in /usr/local/lib/python3.10/dist-packages (from yfinance) (1.5.3)\n",
            "Requirement already satisfied: numpy>=1.16.5 in /usr/local/lib/python3.10/dist-packages (from yfinance) (1.22.4)\n",
            "Requirement already satisfied: requests>=2.26 in /usr/local/lib/python3.10/dist-packages (from yfinance) (2.27.1)\n",
            "Requirement already satisfied: multitasking>=0.0.7 in /usr/local/lib/python3.10/dist-packages (from yfinance) (0.0.11)\n",
            "Requirement already satisfied: lxml>=4.9.1 in /usr/local/lib/python3.10/dist-packages (from yfinance) (4.9.2)\n",
            "Requirement already satisfied: appdirs>=1.4.4 in /usr/local/lib/python3.10/dist-packages (from yfinance) (1.4.4)\n",
            "Requirement already satisfied: pytz>=2022.5 in /usr/local/lib/python3.10/dist-packages (from yfinance) (2022.7.1)\n",
            "Requirement already satisfied: frozendict>=2.3.4 in /usr/local/lib/python3.10/dist-packages (from yfinance) (2.3.8)\n",
            "Requirement already satisfied: cryptography>=3.3.2 in /usr/local/lib/python3.10/dist-packages (from yfinance) (41.0.1)\n",
            "Requirement already satisfied: beautifulsoup4>=4.11.1 in /usr/local/lib/python3.10/dist-packages (from yfinance) (4.11.2)\n",
            "Requirement already satisfied: html5lib>=1.1 in /usr/local/lib/python3.10/dist-packages (from yfinance) (1.1)\n",
            "Requirement already satisfied: soupsieve>1.2 in /usr/local/lib/python3.10/dist-packages (from beautifulsoup4>=4.11.1->yfinance) (2.4.1)\n",
            "Requirement already satisfied: cffi>=1.12 in /usr/local/lib/python3.10/dist-packages (from cryptography>=3.3.2->yfinance) (1.15.1)\n",
            "Requirement already satisfied: six>=1.9 in /usr/local/lib/python3.10/dist-packages (from html5lib>=1.1->yfinance) (1.16.0)\n",
            "Requirement already satisfied: webencodings in /usr/local/lib/python3.10/dist-packages (from html5lib>=1.1->yfinance) (0.5.1)\n",
            "Requirement already satisfied: python-dateutil>=2.8.1 in /usr/local/lib/python3.10/dist-packages (from pandas>=1.3.0->yfinance) (2.8.2)\n",
            "Requirement already satisfied: urllib3<1.27,>=1.21.1 in /usr/local/lib/python3.10/dist-packages (from requests>=2.26->yfinance) (1.26.16)\n",
            "Requirement already satisfied: certifi>=2017.4.17 in /usr/local/lib/python3.10/dist-packages (from requests>=2.26->yfinance) (2023.5.7)\n",
            "Requirement already satisfied: charset-normalizer~=2.0.0 in /usr/local/lib/python3.10/dist-packages (from requests>=2.26->yfinance) (2.0.12)\n",
            "Requirement already satisfied: idna<4,>=2.5 in /usr/local/lib/python3.10/dist-packages (from requests>=2.26->yfinance) (3.4)\n",
            "Requirement already satisfied: pycparser in /usr/local/lib/python3.10/dist-packages (from cffi>=1.12->cryptography>=3.3.2->yfinance) (2.21)\n"
          ]
        }
      ],
      "source": [
        "pip install yfinance"
      ]
    },
    {
      "cell_type": "code",
      "source": [
        "import yfinance as yf\n",
        "\n",
        "#especifica el simbolo de la acción y rango de fecha\n",
        "symbol = \"DIS\"\n",
        "start_date = \"2022-01-01\"\n",
        "end_date = \"2022-05-31\"\n",
        "\n",
        " #Obtener los datos utilizando yfinance\n",
        "df = yf.download(symbol,start = start_date,end = end_date )"
      ],
      "metadata": {
        "id": "b2eQAfS0uDHV",
        "outputId": "ef845c7f-39ad-44e9-f87e-79baf5b6634e",
        "colab": {
          "base_uri": "https://localhost:8080/"
        }
      },
      "execution_count": 29,
      "outputs": [
        {
          "output_type": "stream",
          "name": "stdout",
          "text": [
            "\r[*********************100%***********************]  1 of 1 completed\n"
          ]
        }
      ]
    },
    {
      "cell_type": "markdown",
      "metadata": {
        "id": "hTcC2RigkdNs"
      },
      "source": [
        "Podemos usar las funciones de Pandas para analizar los datos."
      ]
    },
    {
      "cell_type": "code",
      "execution_count": 30,
      "metadata": {
        "id": "c0rSstO0kdNs",
        "outputId": "ec723d10-9316-4277-f58f-f3d954d3b277",
        "colab": {
          "base_uri": "https://localhost:8080/"
        }
      },
      "outputs": [
        {
          "output_type": "execute_result",
          "data": {
            "text/plain": [
              "pandas.core.frame.DataFrame"
            ]
          },
          "metadata": {},
          "execution_count": 30
        }
      ],
      "source": [
        "type(df) # Checamos el tipo de dato"
      ]
    },
    {
      "cell_type": "code",
      "execution_count": 31,
      "metadata": {
        "id": "rQBvn9dWkdNs",
        "outputId": "ab5c76c4-91fa-4ab7-b09f-df98a3aab7b7",
        "colab": {
          "base_uri": "https://localhost:8080/"
        }
      },
      "outputs": [
        {
          "output_type": "execute_result",
          "data": {
            "text/plain": [
              "(102, 6)"
            ]
          },
          "metadata": {},
          "execution_count": 31
        }
      ],
      "source": [
        "df.shape # Este es un atributo, no una función. Devuelve (número de renglones, número de columnas)"
      ]
    },
    {
      "cell_type": "code",
      "execution_count": 32,
      "metadata": {
        "id": "o2v3kFR-kdNs",
        "outputId": "bfc31b3b-a10b-4e20-c007-b59a71372d65",
        "colab": {
          "base_uri": "https://localhost:8080/",
          "height": 455
        }
      },
      "outputs": [
        {
          "output_type": "execute_result",
          "data": {
            "text/plain": [
              "                  Open        High         Low       Close   Adj Close  \\\n",
              "Date                                                                     \n",
              "2022-01-03  155.830002  157.559998  155.360001  156.759995  156.759995   \n",
              "2022-01-04  158.589996  160.320007  155.550003  155.729996  155.729996   \n",
              "2022-01-05  156.520004  159.380005  155.100006  155.190002  155.190002   \n",
              "2022-01-06  156.240005  157.770004  153.679993  156.899994  156.899994   \n",
              "2022-01-07  156.899994  159.300003  156.289993  157.830002  157.830002   \n",
              "...                ...         ...         ...         ...         ...   \n",
              "2022-05-23  103.760002  106.029999  101.559998  105.830002  105.830002   \n",
              "2022-05-24  103.709999  103.839996  100.129997  101.589996  101.589996   \n",
              "2022-05-25  101.430000  103.809998  101.160004  103.260002  103.260002   \n",
              "2022-05-26  104.220001  106.129997  103.959999  105.610001  105.610001   \n",
              "2022-05-27  106.889999  109.370003  106.529999  109.320000  109.320000   \n",
              "\n",
              "              Volume  \n",
              "Date                  \n",
              "2022-01-03  10222800  \n",
              "2022-01-04  16582000  \n",
              "2022-01-05  12272100  \n",
              "2022-01-06  11095300  \n",
              "2022-01-07   9554600  \n",
              "...              ...  \n",
              "2022-05-23  14402400  \n",
              "2022-05-24  13970200  \n",
              "2022-05-25  11026600  \n",
              "2022-05-26  11297800  \n",
              "2022-05-27  13671300  \n",
              "\n",
              "[102 rows x 6 columns]"
            ],
            "text/html": [
              "\n",
              "  <div id=\"df-d8a0386f-9996-46eb-8d6e-9b154770aad3\">\n",
              "    <div class=\"colab-df-container\">\n",
              "      <div>\n",
              "<style scoped>\n",
              "    .dataframe tbody tr th:only-of-type {\n",
              "        vertical-align: middle;\n",
              "    }\n",
              "\n",
              "    .dataframe tbody tr th {\n",
              "        vertical-align: top;\n",
              "    }\n",
              "\n",
              "    .dataframe thead th {\n",
              "        text-align: right;\n",
              "    }\n",
              "</style>\n",
              "<table border=\"1\" class=\"dataframe\">\n",
              "  <thead>\n",
              "    <tr style=\"text-align: right;\">\n",
              "      <th></th>\n",
              "      <th>Open</th>\n",
              "      <th>High</th>\n",
              "      <th>Low</th>\n",
              "      <th>Close</th>\n",
              "      <th>Adj Close</th>\n",
              "      <th>Volume</th>\n",
              "    </tr>\n",
              "    <tr>\n",
              "      <th>Date</th>\n",
              "      <th></th>\n",
              "      <th></th>\n",
              "      <th></th>\n",
              "      <th></th>\n",
              "      <th></th>\n",
              "      <th></th>\n",
              "    </tr>\n",
              "  </thead>\n",
              "  <tbody>\n",
              "    <tr>\n",
              "      <th>2022-01-03</th>\n",
              "      <td>155.830002</td>\n",
              "      <td>157.559998</td>\n",
              "      <td>155.360001</td>\n",
              "      <td>156.759995</td>\n",
              "      <td>156.759995</td>\n",
              "      <td>10222800</td>\n",
              "    </tr>\n",
              "    <tr>\n",
              "      <th>2022-01-04</th>\n",
              "      <td>158.589996</td>\n",
              "      <td>160.320007</td>\n",
              "      <td>155.550003</td>\n",
              "      <td>155.729996</td>\n",
              "      <td>155.729996</td>\n",
              "      <td>16582000</td>\n",
              "    </tr>\n",
              "    <tr>\n",
              "      <th>2022-01-05</th>\n",
              "      <td>156.520004</td>\n",
              "      <td>159.380005</td>\n",
              "      <td>155.100006</td>\n",
              "      <td>155.190002</td>\n",
              "      <td>155.190002</td>\n",
              "      <td>12272100</td>\n",
              "    </tr>\n",
              "    <tr>\n",
              "      <th>2022-01-06</th>\n",
              "      <td>156.240005</td>\n",
              "      <td>157.770004</td>\n",
              "      <td>153.679993</td>\n",
              "      <td>156.899994</td>\n",
              "      <td>156.899994</td>\n",
              "      <td>11095300</td>\n",
              "    </tr>\n",
              "    <tr>\n",
              "      <th>2022-01-07</th>\n",
              "      <td>156.899994</td>\n",
              "      <td>159.300003</td>\n",
              "      <td>156.289993</td>\n",
              "      <td>157.830002</td>\n",
              "      <td>157.830002</td>\n",
              "      <td>9554600</td>\n",
              "    </tr>\n",
              "    <tr>\n",
              "      <th>...</th>\n",
              "      <td>...</td>\n",
              "      <td>...</td>\n",
              "      <td>...</td>\n",
              "      <td>...</td>\n",
              "      <td>...</td>\n",
              "      <td>...</td>\n",
              "    </tr>\n",
              "    <tr>\n",
              "      <th>2022-05-23</th>\n",
              "      <td>103.760002</td>\n",
              "      <td>106.029999</td>\n",
              "      <td>101.559998</td>\n",
              "      <td>105.830002</td>\n",
              "      <td>105.830002</td>\n",
              "      <td>14402400</td>\n",
              "    </tr>\n",
              "    <tr>\n",
              "      <th>2022-05-24</th>\n",
              "      <td>103.709999</td>\n",
              "      <td>103.839996</td>\n",
              "      <td>100.129997</td>\n",
              "      <td>101.589996</td>\n",
              "      <td>101.589996</td>\n",
              "      <td>13970200</td>\n",
              "    </tr>\n",
              "    <tr>\n",
              "      <th>2022-05-25</th>\n",
              "      <td>101.430000</td>\n",
              "      <td>103.809998</td>\n",
              "      <td>101.160004</td>\n",
              "      <td>103.260002</td>\n",
              "      <td>103.260002</td>\n",
              "      <td>11026600</td>\n",
              "    </tr>\n",
              "    <tr>\n",
              "      <th>2022-05-26</th>\n",
              "      <td>104.220001</td>\n",
              "      <td>106.129997</td>\n",
              "      <td>103.959999</td>\n",
              "      <td>105.610001</td>\n",
              "      <td>105.610001</td>\n",
              "      <td>11297800</td>\n",
              "    </tr>\n",
              "    <tr>\n",
              "      <th>2022-05-27</th>\n",
              "      <td>106.889999</td>\n",
              "      <td>109.370003</td>\n",
              "      <td>106.529999</td>\n",
              "      <td>109.320000</td>\n",
              "      <td>109.320000</td>\n",
              "      <td>13671300</td>\n",
              "    </tr>\n",
              "  </tbody>\n",
              "</table>\n",
              "<p>102 rows × 6 columns</p>\n",
              "</div>\n",
              "      <button class=\"colab-df-convert\" onclick=\"convertToInteractive('df-d8a0386f-9996-46eb-8d6e-9b154770aad3')\"\n",
              "              title=\"Convert this dataframe to an interactive table.\"\n",
              "              style=\"display:none;\">\n",
              "        \n",
              "  <svg xmlns=\"http://www.w3.org/2000/svg\" height=\"24px\"viewBox=\"0 0 24 24\"\n",
              "       width=\"24px\">\n",
              "    <path d=\"M0 0h24v24H0V0z\" fill=\"none\"/>\n",
              "    <path d=\"M18.56 5.44l.94 2.06.94-2.06 2.06-.94-2.06-.94-.94-2.06-.94 2.06-2.06.94zm-11 1L8.5 8.5l.94-2.06 2.06-.94-2.06-.94L8.5 2.5l-.94 2.06-2.06.94zm10 10l.94 2.06.94-2.06 2.06-.94-2.06-.94-.94-2.06-.94 2.06-2.06.94z\"/><path d=\"M17.41 7.96l-1.37-1.37c-.4-.4-.92-.59-1.43-.59-.52 0-1.04.2-1.43.59L10.3 9.45l-7.72 7.72c-.78.78-.78 2.05 0 2.83L4 21.41c.39.39.9.59 1.41.59.51 0 1.02-.2 1.41-.59l7.78-7.78 2.81-2.81c.8-.78.8-2.07 0-2.86zM5.41 20L4 18.59l7.72-7.72 1.47 1.35L5.41 20z\"/>\n",
              "  </svg>\n",
              "      </button>\n",
              "      \n",
              "  <style>\n",
              "    .colab-df-container {\n",
              "      display:flex;\n",
              "      flex-wrap:wrap;\n",
              "      gap: 12px;\n",
              "    }\n",
              "\n",
              "    .colab-df-convert {\n",
              "      background-color: #E8F0FE;\n",
              "      border: none;\n",
              "      border-radius: 50%;\n",
              "      cursor: pointer;\n",
              "      display: none;\n",
              "      fill: #1967D2;\n",
              "      height: 32px;\n",
              "      padding: 0 0 0 0;\n",
              "      width: 32px;\n",
              "    }\n",
              "\n",
              "    .colab-df-convert:hover {\n",
              "      background-color: #E2EBFA;\n",
              "      box-shadow: 0px 1px 2px rgba(60, 64, 67, 0.3), 0px 1px 3px 1px rgba(60, 64, 67, 0.15);\n",
              "      fill: #174EA6;\n",
              "    }\n",
              "\n",
              "    [theme=dark] .colab-df-convert {\n",
              "      background-color: #3B4455;\n",
              "      fill: #D2E3FC;\n",
              "    }\n",
              "\n",
              "    [theme=dark] .colab-df-convert:hover {\n",
              "      background-color: #434B5C;\n",
              "      box-shadow: 0px 1px 3px 1px rgba(0, 0, 0, 0.15);\n",
              "      filter: drop-shadow(0px 1px 2px rgba(0, 0, 0, 0.3));\n",
              "      fill: #FFFFFF;\n",
              "    }\n",
              "  </style>\n",
              "\n",
              "      <script>\n",
              "        const buttonEl =\n",
              "          document.querySelector('#df-d8a0386f-9996-46eb-8d6e-9b154770aad3 button.colab-df-convert');\n",
              "        buttonEl.style.display =\n",
              "          google.colab.kernel.accessAllowed ? 'block' : 'none';\n",
              "\n",
              "        async function convertToInteractive(key) {\n",
              "          const element = document.querySelector('#df-d8a0386f-9996-46eb-8d6e-9b154770aad3');\n",
              "          const dataTable =\n",
              "            await google.colab.kernel.invokeFunction('convertToInteractive',\n",
              "                                                     [key], {});\n",
              "          if (!dataTable) return;\n",
              "\n",
              "          const docLinkHtml = 'Like what you see? Visit the ' +\n",
              "            '<a target=\"_blank\" href=https://colab.research.google.com/notebooks/data_table.ipynb>data table notebook</a>'\n",
              "            + ' to learn more about interactive tables.';\n",
              "          element.innerHTML = '';\n",
              "          dataTable['output_type'] = 'display_data';\n",
              "          await google.colab.output.renderOutput(dataTable, element);\n",
              "          const docLink = document.createElement('div');\n",
              "          docLink.innerHTML = docLinkHtml;\n",
              "          element.appendChild(docLink);\n",
              "        }\n",
              "      </script>\n",
              "    </div>\n",
              "  </div>\n",
              "  "
            ]
          },
          "metadata": {},
          "execution_count": 32
        }
      ],
      "source": [
        "df"
      ]
    },
    {
      "cell_type": "code",
      "execution_count": 33,
      "metadata": {
        "id": "uerDIan2kdNt",
        "outputId": "e5e95e4f-730f-4951-a8b7-38bcaa7edd5e",
        "colab": {
          "base_uri": "https://localhost:8080/"
        }
      },
      "outputs": [
        {
          "output_type": "stream",
          "name": "stdout",
          "text": [
            "                  Open        High         Low       Close   Adj Close  \\\n",
            "Date                                                                     \n",
            "2022-01-03  155.830002  157.559998  155.360001  156.759995  156.759995   \n",
            "2022-01-04  158.589996  160.320007  155.550003  155.729996  155.729996   \n",
            "2022-01-05  156.520004  159.380005  155.100006  155.190002  155.190002   \n",
            "2022-01-06  156.240005  157.770004  153.679993  156.899994  156.899994   \n",
            "2022-01-07  156.899994  159.300003  156.289993  157.830002  157.830002   \n",
            "\n",
            "              Volume  \n",
            "Date                  \n",
            "2022-01-03  10222800  \n",
            "2022-01-04  16582000  \n",
            "2022-01-05  12272100  \n",
            "2022-01-06  11095300  \n",
            "2022-01-07   9554600  \n"
          ]
        }
      ],
      "source": [
        "print(df.head()) # La función head() muestra los primeros 5 renglones del data frame"
      ]
    },
    {
      "cell_type": "markdown",
      "metadata": {
        "id": "BQ4uux1ckdNt"
      },
      "source": [
        "Generalmente, comenzamos a analizar un data frame conociendo su tamaño y la información que contiene."
      ]
    },
    {
      "cell_type": "code",
      "execution_count": 34,
      "metadata": {
        "id": "vUNbQrbvkdNt",
        "outputId": "fbaab2d1-0a52-4998-dc93-de5422e5eef4",
        "colab": {
          "base_uri": "https://localhost:8080/"
        }
      },
      "outputs": [
        {
          "output_type": "execute_result",
          "data": {
            "text/plain": [
              "Index(['Open', 'High', 'Low', 'Close', 'Adj Close', 'Volume'], dtype='object')"
            ]
          },
          "metadata": {},
          "execution_count": 34
        }
      ],
      "source": [
        "df.columns # Da el nombre de las columnas"
      ]
    },
    {
      "cell_type": "markdown",
      "metadata": {
        "id": "k5IvX9E0kdNt"
      },
      "source": [
        "Cada columna debe ser del mismo tipo, pero un renglón puede tener objetos de diferentes tipos."
      ]
    },
    {
      "cell_type": "code",
      "execution_count": null,
      "metadata": {
        "id": "VxyQxjNwkdNt"
      },
      "outputs": [],
      "source": [
        "df.dtypes # Da el tipo de objeto que guardan las columnas"
      ]
    },
    {
      "cell_type": "code",
      "execution_count": null,
      "metadata": {
        "id": "noOnQfmFkdNt"
      },
      "outputs": [],
      "source": [
        "df.info() # Esta función da información más amplia"
      ]
    },
    {
      "cell_type": "markdown",
      "metadata": {
        "id": "xrRRSI_kkdNt"
      },
      "source": [
        "Podemos elegir columnas en particular para visualizar."
      ]
    },
    {
      "cell_type": "code",
      "execution_count": null,
      "metadata": {
        "id": "KeMTVirwkdNu"
      },
      "outputs": [],
      "source": [
        "c_df=df['Close'] # Elejimos la columna y la guardamos como una nueva variable"
      ]
    },
    {
      "cell_type": "code",
      "execution_count": null,
      "metadata": {
        "id": "89-Lag3tkdNu"
      },
      "outputs": [],
      "source": [
        "c_df.head() # mostramos los primeros 5 renglones"
      ]
    },
    {
      "cell_type": "code",
      "execution_count": null,
      "metadata": {
        "id": "HIm9uj2dkdNu"
      },
      "outputs": [],
      "source": [
        "c_df.tail() # mostramos los últimos 5 renglones"
      ]
    },
    {
      "cell_type": "code",
      "execution_count": null,
      "metadata": {
        "id": "PZR9OQXnkdNu"
      },
      "outputs": [],
      "source": [
        "o_df=df.Open # También podemos elegir la columna nombrandola directamente"
      ]
    },
    {
      "cell_type": "code",
      "execution_count": null,
      "metadata": {
        "id": "47apiUVRkdNu"
      },
      "outputs": [],
      "source": [
        "o_df.head()"
      ]
    },
    {
      "cell_type": "code",
      "execution_count": null,
      "metadata": {
        "id": "xyWwmDxKkdNu"
      },
      "outputs": [],
      "source": [
        "subset=df[['Open','Close']] # Para especificar varias columnas usamos corchetes dobles"
      ]
    },
    {
      "cell_type": "code",
      "execution_count": null,
      "metadata": {
        "id": "GOxuj3GrkdNv"
      },
      "outputs": [],
      "source": [
        "subset.head()"
      ]
    },
    {
      "cell_type": "code",
      "execution_count": null,
      "metadata": {
        "id": "6Qt1TptFkdNv"
      },
      "outputs": [],
      "source": [
        "subset.head(n=10) # podemos ver más renglones"
      ]
    },
    {
      "cell_type": "code",
      "execution_count": null,
      "metadata": {
        "id": "xV5ETBHekdNv"
      },
      "outputs": [],
      "source": [
        "subset.tail()"
      ]
    },
    {
      "cell_type": "code",
      "execution_count": null,
      "metadata": {
        "id": "niu1neugkdNv"
      },
      "outputs": [],
      "source": [
        "subset # se puede imprimir todo"
      ]
    },
    {
      "cell_type": "code",
      "execution_count": null,
      "metadata": {
        "id": "BqRZEA7OkdNv"
      },
      "outputs": [],
      "source": [
        "subset.ix[0] # revisar: iloc, loe"
      ]
    },
    {
      "cell_type": "code",
      "execution_count": null,
      "metadata": {
        "id": "FEt_ao8qkdNv"
      },
      "outputs": [],
      "source": [
        "df[50:55]['Close']"
      ]
    },
    {
      "cell_type": "markdown",
      "metadata": {
        "id": "HISONMPykdNv"
      },
      "source": [
        "Podemos graficar los precios y calcular las estadisticas de los rendimientos logaritmizados"
      ]
    },
    {
      "cell_type": "code",
      "execution_count": null,
      "metadata": {
        "id": "EYTE0sj8kdNw"
      },
      "outputs": [],
      "source": [
        "datos=investpy.get_stock_historical_data(stock=\"DIS\",country=\"Mexico\",from_date=\"24/05/2021\", to_date=\"24/05/2022\")\n",
        "\n",
        "datos.to_csv(\"datos.csv\")\n",
        "\n",
        "\n",
        "datos=pd.read_csv(\"datos.csv\",header=0,index_col=\"Date\",parse_dates=True) #le peidmos leer los datos del csv\n",
        "\n",
        "\n",
        "ts=datos[\"Close\"] #que tome los valores de precio de cierre de la acci+on\n",
        "print(ts)\n",
        "\n",
        "lp=[] #creamos una lista vacia para los precios\n",
        "\n",
        "for i in range(len(ts)):\n",
        "     lp.append(ts.iloc[i])\n",
        "plt.plot(lp) #grafica de los precios\n",
        "plt.show()\n",
        "\n",
        "#calcular los rendimientos\n",
        "\n",
        "lr=[] #lista de rendimientos\n",
        "for i in range(1,len(lp)):\n",
        "     lr.append((lp[i-1]/lp[i])-1) #para lso rendimientos usamos la formula de el precio de cierre anterior entre el precio de cierre actual menos 1\n",
        "\n",
        "print(f\"\\n El rendimiento medio es: {mean(lr)},\\n La desviación muestral es: {stdev(lr)} \\n La desviación poblacional es: {pstdev(lr)}\")\n",
        "\n",
        "\n"
      ]
    },
    {
      "cell_type": "markdown",
      "metadata": {
        "id": "qsiwC7adkdNw"
      },
      "source": [
        "Y podemos visualizar el rendimiento"
      ]
    },
    {
      "cell_type": "code",
      "execution_count": null,
      "metadata": {
        "id": "E46lYnKTkdNw"
      },
      "outputs": [],
      "source": [
        "lr=[]\n",
        "for i in range(1,len(lp)):\n",
        "    lr.append(log(lp[i]/lp[i-1]))\n",
        "plt.plot(lr)\n",
        "plt.show()\n",
        "print(mean(lr), stdev(lr))"
      ]
    },
    {
      "cell_type": "markdown",
      "metadata": {
        "id": "YmEhpzgTkdNw"
      },
      "source": [
        "Y graficarlos juntos, mostrará las fluctuaciones en los mismos puntos"
      ]
    },
    {
      "cell_type": "code",
      "execution_count": null,
      "metadata": {
        "id": "Hq7GZ1LckdNw"
      },
      "outputs": [],
      "source": [
        "fig, ax=plt.subplots(2,1,figsize=(16,8), sharex=True)\n",
        "ax[0].plot(lp)\n",
        "ax[1].plot(lr)"
      ]
    },
    {
      "cell_type": "code",
      "execution_count": null,
      "metadata": {
        "id": "7-dwHc6vkdNw"
      },
      "outputs": [],
      "source": []
    },
    {
      "cell_type": "markdown",
      "metadata": {
        "id": "1VuFyZZVkdNx"
      },
      "source": [
        "#### Opciones"
      ]
    },
    {
      "cell_type": "markdown",
      "metadata": {
        "id": "nU3PEoj4kdNx"
      },
      "source": [
        "Entonces, Tenemos que $P_t=P_0 e^{\\mu t +\\sigma \\beta_t}$"
      ]
    },
    {
      "cell_type": "markdown",
      "metadata": {
        "id": "MhhHHoL6kdNx"
      },
      "source": [
        "De manera que:\n",
        "    \n",
        "$$E[P_t]=P_0 e^{(\\mu + \\frac{\\sigma}{2})t}$$"
      ]
    },
    {
      "cell_type": "markdown",
      "metadata": {
        "id": "EkTN_pnAkdNx"
      },
      "source": [
        "Podemos reescribir el precio como:\n",
        "    \n",
        "$$P_t=P_0 e^{(\\mu - \\frac{\\sigma}{2})t + \\sigma \\beta_t}$$"
      ]
    },
    {
      "cell_type": "markdown",
      "metadata": {
        "id": "MwT21LtykdNx"
      },
      "source": [
        "O más convenientemente como:\n",
        "\n",
        "<font color='blue'>$$P_t=P_0 e^{(\\mu - \\frac{\\sigma}{2})t + \\sigma \\sqrt{t} z}$$\n",
        "    \n",
        "con $z \\sim N(0, 1)$"
      ]
    },
    {
      "cell_type": "markdown",
      "metadata": {
        "id": "V2jRrKTdkdNx"
      },
      "source": [
        "Ahora con:\n",
        "    \n",
        "$$E[P_t]=P_0 e^{\\mu t}$$"
      ]
    },
    {
      "cell_type": "markdown",
      "metadata": {
        "id": "nXj3MdXykdNy"
      },
      "source": [
        "Para el caso de una opción europea (contrato a tiempo fijo), con precio de ejercicio k, al tiempo t.\n",
        "Se tienen las alternativas:\n",
        "    \n",
        "* Si $p>k$ se compra\n",
        "* Si $p \\leq k$ no se compra"
      ]
    },
    {
      "cell_type": "markdown",
      "metadata": {
        "id": "JOgNog6TkdNy"
      },
      "source": [
        "El valor esperado de la ganancia es:\n",
        "\n",
        "$$E[(P_t - k)^t]$$"
      ]
    },
    {
      "cell_type": "markdown",
      "metadata": {
        "id": "QzF75U62kdNy"
      },
      "source": [
        "Y aquí va un desarrollo matemático..."
      ]
    },
    {
      "cell_type": "code",
      "execution_count": null,
      "metadata": {
        "id": "chQXYdB-kdNy"
      },
      "outputs": [],
      "source": []
    },
    {
      "cell_type": "code",
      "execution_count": null,
      "metadata": {
        "id": "iWqJvJ-ekdNy"
      },
      "outputs": [],
      "source": [
        "from random import gauss\n",
        "from math import exp, sqrt"
      ]
    },
    {
      "cell_type": "code",
      "execution_count": null,
      "metadata": {
        "id": "Eiy9JHc3kdNy"
      },
      "outputs": [],
      "source": [
        "def f(p0, t0, t, mu, sigma):\n",
        "    h=(mu - (sigma**2)/2)*(t-t0) + sigma*sqrt(t-t0)*gauss(0,1)\n",
        "#    h=(mu - (sigma**2)/2)*(t-t0) + sigma*gauss(0, sqrt(t-t0))\n",
        "    p=p0*exp(h)\n",
        "    return p"
      ]
    },
    {
      "cell_type": "code",
      "execution_count": null,
      "metadata": {
        "id": "5E_hgsCDkdNy"
      },
      "outputs": [],
      "source": [
        "n = 1000000\n",
        "mu = 0.004\n",
        "sigma = 0.03\n",
        "p0 = 10\n",
        "suma = 0\n",
        "\n",
        "for i in range(n):\n",
        "    p30 = f(p0, 0, 30, mu, sigma)\n",
        "    p70 = f(p30, 30, 70, mu, sigma)\n",
        "    suma = suma + 100*(p70 - p30)/p30\n",
        "print(suma/n)"
      ]
    },
    {
      "cell_type": "code",
      "execution_count": null,
      "metadata": {
        "id": "2n5sRhLvkdNz"
      },
      "outputs": [],
      "source": []
    }
  ],
  "metadata": {
    "kernelspec": {
      "display_name": "Python 3",
      "language": "python",
      "name": "python3"
    },
    "language_info": {
      "codemirror_mode": {
        "name": "ipython",
        "version": 3
      },
      "file_extension": ".py",
      "mimetype": "text/x-python",
      "name": "python",
      "nbconvert_exporter": "python",
      "pygments_lexer": "ipython3",
      "version": "3.7.3"
    },
    "colab": {
      "provenance": []
    }
  },
  "nbformat": 4,
  "nbformat_minor": 0
}