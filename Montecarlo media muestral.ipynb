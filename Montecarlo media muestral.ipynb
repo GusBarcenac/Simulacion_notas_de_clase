{
  "nbformat": 4,
  "nbformat_minor": 0,
  "metadata": {
    "colab": {
      "provenance": [],
      "authorship_tag": "ABX9TyOghUEuPOfzmxXV/wmTuZUO",
      "include_colab_link": true
    },
    "kernelspec": {
      "name": "python3",
      "display_name": "Python 3"
    },
    "language_info": {
      "name": "python"
    }
  },
  "cells": [
    {
      "cell_type": "markdown",
      "metadata": {
        "id": "view-in-github",
        "colab_type": "text"
      },
      "source": [
        "<a href=\"https://colab.research.google.com/github/GusBarcenac/Simulacion_notas_de_clase/blob/main/Montecarlo%20media%20muestral.ipynb\" target=\"_parent\"><img src=\"https://colab.research.google.com/assets/colab-badge.svg\" alt=\"Open In Colab\"/></a>"
      ]
    },
    {
      "cell_type": "code",
      "execution_count": 2,
      "metadata": {
        "colab": {
          "base_uri": "https://localhost:8080/"
        },
        "id": "OHifxqOcKska",
        "outputId": "b07cf169-7179-4a62-bd1e-dcee3b942880"
      },
      "outputs": [
        {
          "output_type": "stream",
          "name": "stdout",
          "text": [
            "Semilla inicial:  194426831\n",
            "Nueva semilla: \n",
            "1 3\n",
            "2 5\n",
            "3 1\n",
            "4 9\n",
            "5 7\n",
            "6 11\n",
            "7 3\n",
            "8 5\n",
            "9 1\n",
            "10 9\n"
          ]
        }
      ],
      "source": [
        "#INTRODUCE LOS VALORES DE A, B Y M\n",
        "a=5\n",
        "b=4\n",
        "m=14\n",
        "import random \n",
        "#SE ESCOGE UNA SEMILLA AL AZAR ENTRE 0 Y 999999999\n",
        "semilla=random.randint(0,999999999)\n",
        "print (\"Semilla inicial: \", semilla )\n",
        "print(\"Nueva semilla: \")\n",
        "for i in range(10):\n",
        "    print(i+1, (a*semilla+b)%m)\n",
        "    semilla=(a*semilla+b)%m"
      ]
    }
  ]
}